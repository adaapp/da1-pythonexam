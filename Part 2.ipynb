{
 "cells": [
  {
   "cell_type": "markdown",
   "metadata": {},
   "source": [
    "# Part 2: Olympic athletes (30)\n",
    "\n",
    "The file `olympics_since_summer_1980.csv` contains data on competitors in Summer and Winter Olympic since 1964.\n",
    "\n",
    "Use the `pandas` library, and a visualisation library of your choice, to conduct Exploratory Data Analysis with this data as a whole or in sensible subgroups.\n",
    "\n",
    "This means you should\n",
    "* decide on a sensible strategy to deal with missing data\n",
    "* use summary statistics to describe the data\n",
    "* choose two or three broad lines of enquiry to pursue further\n",
    "* use appropriate visualisations to describe anything you find out\n",
    "\n",
    "For the highest marks you will also (where appropriate to your lines of enquiry)\n",
    "* visualise and assess the strength of relationships between variables\n",
    "* look for differences between subgroups in the data and assess the significance of these differences\n",
    "* consider trends over time\n",
    "\n",
    "Marks will be allocated as follows\n",
    "* decision making (10)\n",
    "* technical competence (10)\n",
    "* analysis and evaluation (10)"
   ]
  }
 ],
 "metadata": {
  "kernelspec": {
   "display_name": "Python 3",
   "language": "python",
   "name": "python3"
  },
  "language_info": {
   "codemirror_mode": {
    "name": "ipython",
    "version": 3
   },
   "file_extension": ".py",
   "mimetype": "text/x-python",
   "name": "python",
   "nbconvert_exporter": "python",
   "pygments_lexer": "ipython3",
   "version": "3.6.7"
  }
 },
 "nbformat": 4,
 "nbformat_minor": 2
}
